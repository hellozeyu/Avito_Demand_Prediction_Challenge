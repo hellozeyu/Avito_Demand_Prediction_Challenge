{
 "cells": [
  {
   "cell_type": "code",
   "execution_count": 1,
   "metadata": {
    "collapsed": true
   },
   "outputs": [],
   "source": [
    "import gc\n",
    "import pandas as pd"
   ]
  },
  {
   "cell_type": "code",
   "execution_count": 2,
   "metadata": {
    "collapsed": true
   },
   "outputs": [],
   "source": [
    "train_active_df = pd.read_csv('../input/train_active.csv', usecols=['title', 'description'])\n",
    "train_active_df = train_active_df.fillna('')\n",
    "train_active_df['title_desc'] = train_active_df['title'].astype(str) + train_active_df['description'].astype(str)\n",
    "train_active_df = train_active_df.drop(['title', 'description'], axis=1)"
   ]
  },
  {
   "cell_type": "code",
   "execution_count": 3,
   "metadata": {
    "collapsed": true
   },
   "outputs": [],
   "source": [
    "import os\n",
    "import multiprocessing\n",
    "cores = multiprocessing.cpu_count()"
   ]
  },
  {
   "cell_type": "code",
   "execution_count": 6,
   "metadata": {},
   "outputs": [],
   "source": [
    "import gensim\n",
    "from gensim.utils import simple_preprocess\n",
    "from gensim.models.doc2vec import Doc2Vec, TaggedDocument\n",
    "\n",
    "# MyDocs reading from a data frame\n",
    "class MyDocs(object):\n",
    "    def __iter__(self):\n",
    "        for i in range(train_active_df.shape[0]):  \n",
    "            desc = train_active_df.iloc[i,0]\n",
    "            if desc != '':\n",
    "                yield TaggedDocument(words=simple_preprocess(train_active_df.iloc[i,0]), tags=[i])\n",
    "            else:\n",
    "                continue"
   ]
  },
  {
   "cell_type": "code",
   "execution_count": null,
   "metadata": {},
   "outputs": [
    {
     "name": "stdout",
     "output_type": "stream",
     "text": [
      "start traing doc2vec model...\n"
     ]
    }
   ],
   "source": [
    "%%time\n",
    "\n",
    "if not os.path.exists('models/doc2vec.model'):\n",
    "    print(\"start traing doc2vec model...\")\n",
    "    documents = MyDocs()\n",
    "    doc2vec_model = Doc2Vec(dm=1, vector_size=100, window=8, min_count=40, workers=cores, epochs=10)\n",
    "    doc2vec_model.build_vocab(documents)\n",
    "    doc2vec_model.train(documents, total_examples=doc2vec_model.corpus_count, epochs=doc2vec_model.epochs)\n",
    "    if not os.path.exists('models'): \n",
    "        os.makedirs('models')\n",
    "        doc2vec_model.save('models/doc2vec.model')\n",
    "    else:\n",
    "        \n",
    "        doc2vec_model.save('models/doc2vec.model')\n",
    "else:\n",
    "    doc2vec_model = Doc2Vec.load('models/doc2vec.model')"
   ]
  },
  {
   "cell_type": "code",
   "execution_count": null,
   "metadata": {
    "collapsed": true
   },
   "outputs": [],
   "source": []
  },
  {
   "cell_type": "code",
   "execution_count": 11,
   "metadata": {},
   "outputs": [
    {
     "data": {
      "text/plain": [
       "1001"
      ]
     },
     "execution_count": 11,
     "metadata": {},
     "output_type": "execute_result"
    }
   ],
   "source": [
    "del train_active_df\n",
    "gc.collect()"
   ]
  },
  {
   "cell_type": "code",
   "execution_count": 42,
   "metadata": {
    "collapsed": true
   },
   "outputs": [],
   "source": [
    "train_df = pd.read_csv('../input/train.csv', usecols=['title', 'description'])\n",
    "train_df = train_df.fillna('')\n",
    "train_df['title_desc'] = train_df['title'].astype(str) + train_df['description'].astype(str)\n",
    "train_df = train_df.drop(['title', 'description'], axis=1)"
   ]
  },
  {
   "cell_type": "code",
   "execution_count": 34,
   "metadata": {},
   "outputs": [
    {
     "name": "stdout",
     "output_type": "stream",
     "text": [
      "title_desc    Отдам бесплатноНа ангарском\n",
      "Name: 0, dtype: object\n"
     ]
    }
   ],
   "source": [
    "print(train_df.iloc[0])"
   ]
  },
  {
   "cell_type": "code",
   "execution_count": 43,
   "metadata": {
    "collapsed": true
   },
   "outputs": [],
   "source": [
    "vector_df = []\n",
    "for i in range(train_df.shape[0]):\n",
    "    vector_df.append(list(doc2vec_model.infer_vector(train_df.iloc[i])))"
   ]
  },
  {
   "cell_type": "code",
   "execution_count": 44,
   "metadata": {
    "collapsed": true
   },
   "outputs": [],
   "source": [
    "vector_names = [ 'd2v_des_'+ str(i) for i in range(100)]"
   ]
  },
  {
   "cell_type": "code",
   "execution_count": 45,
   "metadata": {
    "collapsed": true
   },
   "outputs": [],
   "source": [
    "vector_df = pd.DataFrame(vector_df, columns=vector_names)"
   ]
  },
  {
   "cell_type": "code",
   "execution_count": 46,
   "metadata": {},
   "outputs": [
    {
     "data": {
      "text/html": [
       "<div>\n",
       "<style scoped>\n",
       "    .dataframe tbody tr th:only-of-type {\n",
       "        vertical-align: middle;\n",
       "    }\n",
       "\n",
       "    .dataframe tbody tr th {\n",
       "        vertical-align: top;\n",
       "    }\n",
       "\n",
       "    .dataframe thead th {\n",
       "        text-align: right;\n",
       "    }\n",
       "</style>\n",
       "<table border=\"1\" class=\"dataframe\">\n",
       "  <thead>\n",
       "    <tr style=\"text-align: right;\">\n",
       "      <th></th>\n",
       "      <th>d2v_des_0</th>\n",
       "      <th>d2v_des_1</th>\n",
       "      <th>d2v_des_2</th>\n",
       "      <th>d2v_des_3</th>\n",
       "      <th>d2v_des_4</th>\n",
       "      <th>d2v_des_5</th>\n",
       "      <th>d2v_des_6</th>\n",
       "      <th>d2v_des_7</th>\n",
       "      <th>d2v_des_8</th>\n",
       "      <th>d2v_des_9</th>\n",
       "      <th>...</th>\n",
       "      <th>d2v_des_90</th>\n",
       "      <th>d2v_des_91</th>\n",
       "      <th>d2v_des_92</th>\n",
       "      <th>d2v_des_93</th>\n",
       "      <th>d2v_des_94</th>\n",
       "      <th>d2v_des_95</th>\n",
       "      <th>d2v_des_96</th>\n",
       "      <th>d2v_des_97</th>\n",
       "      <th>d2v_des_98</th>\n",
       "      <th>d2v_des_99</th>\n",
       "    </tr>\n",
       "  </thead>\n",
       "  <tbody>\n",
       "    <tr>\n",
       "      <th>0</th>\n",
       "      <td>-0.000096</td>\n",
       "      <td>-0.000630</td>\n",
       "      <td>-0.000357</td>\n",
       "      <td>-0.002541</td>\n",
       "      <td>0.002342</td>\n",
       "      <td>0.004210</td>\n",
       "      <td>-0.002951</td>\n",
       "      <td>0.001396</td>\n",
       "      <td>0.000683</td>\n",
       "      <td>0.000909</td>\n",
       "      <td>...</td>\n",
       "      <td>0.002245</td>\n",
       "      <td>-0.001432</td>\n",
       "      <td>0.004529</td>\n",
       "      <td>0.001988</td>\n",
       "      <td>-0.003545</td>\n",
       "      <td>0.000194</td>\n",
       "      <td>0.001303</td>\n",
       "      <td>0.000449</td>\n",
       "      <td>-0.003420</td>\n",
       "      <td>0.000212</td>\n",
       "    </tr>\n",
       "    <tr>\n",
       "      <th>1</th>\n",
       "      <td>-0.003006</td>\n",
       "      <td>0.003880</td>\n",
       "      <td>-0.003489</td>\n",
       "      <td>-0.001837</td>\n",
       "      <td>-0.001414</td>\n",
       "      <td>-0.000688</td>\n",
       "      <td>-0.004706</td>\n",
       "      <td>0.003070</td>\n",
       "      <td>0.002686</td>\n",
       "      <td>-0.000754</td>\n",
       "      <td>...</td>\n",
       "      <td>0.002623</td>\n",
       "      <td>-0.002553</td>\n",
       "      <td>-0.000212</td>\n",
       "      <td>0.000602</td>\n",
       "      <td>0.000606</td>\n",
       "      <td>0.002775</td>\n",
       "      <td>-0.000732</td>\n",
       "      <td>-0.001920</td>\n",
       "      <td>0.003393</td>\n",
       "      <td>-0.003132</td>\n",
       "    </tr>\n",
       "    <tr>\n",
       "      <th>2</th>\n",
       "      <td>-0.003164</td>\n",
       "      <td>0.000502</td>\n",
       "      <td>0.001140</td>\n",
       "      <td>-0.002742</td>\n",
       "      <td>0.002900</td>\n",
       "      <td>0.003382</td>\n",
       "      <td>0.000870</td>\n",
       "      <td>0.001775</td>\n",
       "      <td>0.002504</td>\n",
       "      <td>0.004745</td>\n",
       "      <td>...</td>\n",
       "      <td>-0.001393</td>\n",
       "      <td>0.002211</td>\n",
       "      <td>-0.003565</td>\n",
       "      <td>-0.004867</td>\n",
       "      <td>-0.001775</td>\n",
       "      <td>0.003335</td>\n",
       "      <td>-0.000033</td>\n",
       "      <td>0.004824</td>\n",
       "      <td>-0.004838</td>\n",
       "      <td>0.001378</td>\n",
       "    </tr>\n",
       "    <tr>\n",
       "      <th>3</th>\n",
       "      <td>-0.004729</td>\n",
       "      <td>-0.001677</td>\n",
       "      <td>-0.000555</td>\n",
       "      <td>-0.002868</td>\n",
       "      <td>-0.004287</td>\n",
       "      <td>0.002324</td>\n",
       "      <td>-0.004298</td>\n",
       "      <td>-0.004555</td>\n",
       "      <td>0.003364</td>\n",
       "      <td>-0.002126</td>\n",
       "      <td>...</td>\n",
       "      <td>-0.000903</td>\n",
       "      <td>0.003889</td>\n",
       "      <td>-0.004152</td>\n",
       "      <td>-0.003814</td>\n",
       "      <td>0.003885</td>\n",
       "      <td>-0.003561</td>\n",
       "      <td>-0.004051</td>\n",
       "      <td>-0.002012</td>\n",
       "      <td>0.004686</td>\n",
       "      <td>-0.003631</td>\n",
       "    </tr>\n",
       "    <tr>\n",
       "      <th>4</th>\n",
       "      <td>-0.003339</td>\n",
       "      <td>-0.000116</td>\n",
       "      <td>-0.002446</td>\n",
       "      <td>0.003012</td>\n",
       "      <td>0.000756</td>\n",
       "      <td>0.004044</td>\n",
       "      <td>-0.003773</td>\n",
       "      <td>-0.000507</td>\n",
       "      <td>-0.002300</td>\n",
       "      <td>0.000783</td>\n",
       "      <td>...</td>\n",
       "      <td>-0.003446</td>\n",
       "      <td>0.001505</td>\n",
       "      <td>-0.002021</td>\n",
       "      <td>-0.003124</td>\n",
       "      <td>0.004838</td>\n",
       "      <td>0.003333</td>\n",
       "      <td>-0.001472</td>\n",
       "      <td>0.000731</td>\n",
       "      <td>0.002785</td>\n",
       "      <td>-0.003619</td>\n",
       "    </tr>\n",
       "  </tbody>\n",
       "</table>\n",
       "<p>5 rows × 100 columns</p>\n",
       "</div>"
      ],
      "text/plain": [
       "   d2v_des_0  d2v_des_1  d2v_des_2  d2v_des_3  d2v_des_4  d2v_des_5  \\\n",
       "0  -0.000096  -0.000630  -0.000357  -0.002541   0.002342   0.004210   \n",
       "1  -0.003006   0.003880  -0.003489  -0.001837  -0.001414  -0.000688   \n",
       "2  -0.003164   0.000502   0.001140  -0.002742   0.002900   0.003382   \n",
       "3  -0.004729  -0.001677  -0.000555  -0.002868  -0.004287   0.002324   \n",
       "4  -0.003339  -0.000116  -0.002446   0.003012   0.000756   0.004044   \n",
       "\n",
       "   d2v_des_6  d2v_des_7  d2v_des_8  d2v_des_9     ...      d2v_des_90  \\\n",
       "0  -0.002951   0.001396   0.000683   0.000909     ...        0.002245   \n",
       "1  -0.004706   0.003070   0.002686  -0.000754     ...        0.002623   \n",
       "2   0.000870   0.001775   0.002504   0.004745     ...       -0.001393   \n",
       "3  -0.004298  -0.004555   0.003364  -0.002126     ...       -0.000903   \n",
       "4  -0.003773  -0.000507  -0.002300   0.000783     ...       -0.003446   \n",
       "\n",
       "   d2v_des_91  d2v_des_92  d2v_des_93  d2v_des_94  d2v_des_95  d2v_des_96  \\\n",
       "0   -0.001432    0.004529    0.001988   -0.003545    0.000194    0.001303   \n",
       "1   -0.002553   -0.000212    0.000602    0.000606    0.002775   -0.000732   \n",
       "2    0.002211   -0.003565   -0.004867   -0.001775    0.003335   -0.000033   \n",
       "3    0.003889   -0.004152   -0.003814    0.003885   -0.003561   -0.004051   \n",
       "4    0.001505   -0.002021   -0.003124    0.004838    0.003333   -0.001472   \n",
       "\n",
       "   d2v_des_97  d2v_des_98  d2v_des_99  \n",
       "0    0.000449   -0.003420    0.000212  \n",
       "1   -0.001920    0.003393   -0.003132  \n",
       "2    0.004824   -0.004838    0.001378  \n",
       "3   -0.002012    0.004686   -0.003631  \n",
       "4    0.000731    0.002785   -0.003619  \n",
       "\n",
       "[5 rows x 100 columns]"
      ]
     },
     "execution_count": 46,
     "metadata": {},
     "output_type": "execute_result"
    }
   ],
   "source": [
    "vector_df.head()"
   ]
  },
  {
   "cell_type": "code",
   "execution_count": 61,
   "metadata": {},
   "outputs": [
    {
     "data": {
      "text/plain": [
       "0"
      ]
     },
     "execution_count": 61,
     "metadata": {},
     "output_type": "execute_result"
    }
   ],
   "source": [
    "sum(train_df['title_desc'] == ' ')"
   ]
  },
  {
   "cell_type": "code",
   "execution_count": 40,
   "metadata": {
    "collapsed": true
   },
   "outputs": [],
   "source": [
    "# vector_df.to_csv('test_d2v.csv', index=False)"
   ]
  },
  {
   "cell_type": "code",
   "execution_count": 48,
   "metadata": {
    "collapsed": true
   },
   "outputs": [],
   "source": [
    "vector_df.to_pickle('../input/train_d2v.pkl')"
   ]
  },
  {
   "cell_type": "code",
   "execution_count": 59,
   "metadata": {},
   "outputs": [
    {
     "data": {
      "text/plain": [
       "[(12407770, 0.887975811958313),\n",
       " (13212248, 0.8843343257904053),\n",
       " (8667468, 0.883764386177063),\n",
       " (8066923, 0.8831993341445923),\n",
       " (3939639, 0.8825210332870483),\n",
       " (6795815, 0.8818987011909485),\n",
       " (24590, 0.881564199924469),\n",
       " (10790629, 0.8815597295761108),\n",
       " (9441305, 0.8814713954925537),\n",
       " (1704067, 0.8811585307121277)]"
      ]
     },
     "execution_count": 59,
     "metadata": {},
     "output_type": "execute_result"
    }
   ],
   "source": [
    "doc2vec_model.docvecs.most_similar(123)"
   ]
  },
  {
   "cell_type": "code",
   "execution_count": null,
   "metadata": {
    "collapsed": true
   },
   "outputs": [],
   "source": []
  }
 ],
 "metadata": {
  "kernelspec": {
   "display_name": "Python 3",
   "language": "python",
   "name": "python3"
  },
  "language_info": {
   "codemirror_mode": {
    "name": "ipython",
    "version": 3
   },
   "file_extension": ".py",
   "mimetype": "text/x-python",
   "name": "python",
   "nbconvert_exporter": "python",
   "pygments_lexer": "ipython3",
   "version": "3.6.2"
  }
 },
 "nbformat": 4,
 "nbformat_minor": 2
}
